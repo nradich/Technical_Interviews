{
 "cells": [
  {
   "cell_type": "markdown",
   "metadata": {},
   "source": [
    "### Interview Questions from HackerRank\n",
    "\n",
    "##### **1**\n",
    "Task\n",
    "Given an integer, , perform the following conditional actions:\n",
    "\n",
    "- If  is odd, print Weird\n",
    "- If  is even and in the inclusive range of  to , print Not Weird\n",
    "- If  is even and in the inclusive range of  to , print Weird\n",
    "- If  is even and greater than , print Not Weird"
   ]
  },
  {
   "cell_type": "code",
   "execution_count": null,
   "metadata": {},
   "outputs": [],
   "source": [
    "#Elementary condition statement\n",
    "#testing the percent sign operating as modulo operator\n",
    "    if n %2 == 1:\n",
    "        print(\"Weird\")\n",
    "    if n %2 ==0 and n >=2 and n <= 5:\n",
    "        print(\"Not Weird\")\n",
    "    if  n %2 ==0 and n >=6 and n <= 20:\n",
    "        print(\"Weird\")\n",
    "    if n %2 ==0 and n > 20:\n",
    "        print(\"Not Weird\") "
   ]
  },
  {
   "cell_type": "markdown",
   "metadata": {},
   "source": [
    "**2**\n",
    "\n",
    "The provided code stub reads two integers from STDIN,  and . Add code to print three lines where:\n",
    "\n",
    "- The first line contains the sum of the two numbers.\n",
    "- The second line contains the difference of the two numbers (first - second).\n",
    "- The third line contains the product of the two numbers.\n"
   ]
  },
  {
   "cell_type": "code",
   "execution_count": null,
   "metadata": {},
   "outputs": [],
   "source": [
    "#Focuses on formatting the output\n",
    "#by signifying the sep line with print, can print one different lines\n",
    "if __name__ == '__main__':\n",
    "    a = int(input())\n",
    "    b = int(input())\n",
    "    \n",
    "    def operation(a:int, b:int):\n",
    "        sum_total = a+b\n",
    "        difference_total = a-b\n",
    "        product_total = a *b\n",
    "        return sum_total, difference_total, product_total\n",
    "        \n",
    "        \n",
    "        \n",
    "    print(*operation(a,b), sep='\\n')    "
   ]
  },
  {
   "cell_type": "markdown",
   "metadata": {},
   "source": [
    "**3**\n",
    "\n",
    "Task\n",
    "The provided code stub reads two integers,  and , from STDIN.\n",
    "\n",
    "Add logic to print two lines. The first line should contain the result of integer division,  // . The second line should contain the result of float division,  / .\n",
    "\n",
    "No rounding or formatting is necessary."
   ]
  },
  {
   "cell_type": "code",
   "execution_count": null,
   "metadata": {},
   "outputs": [],
   "source": [
    "#understanding the different between double slash division and single slash division\n",
    "a = int(input())\n",
    "b = int(input())\n",
    "\n",
    "def division_work(a:int, b:int):\n",
    "    integer_division = a//b\n",
    "    float_division = a/b\n",
    "    \n",
    "    return integer_division, float_division\n",
    "    \n",
    "print(*division_work(a,b), sep='\\n')  "
   ]
  }
 ],
 "metadata": {
  "kernelspec": {
   "display_name": "algebra",
   "language": "python",
   "name": "python3"
  },
  "language_info": {
   "name": "python",
   "version": "3.11.4"
  }
 },
 "nbformat": 4,
 "nbformat_minor": 2
}
