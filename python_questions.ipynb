{
 "cells": [
  {
   "cell_type": "markdown",
   "metadata": {},
   "source": [
    "### Interview Questions from HackerRank\n",
    "\n",
    "##### **1**\n",
    "Task\n",
    "Given an integer, , perform the following conditional actions:\n",
    "\n",
    "- If  is odd, print Weird\n",
    "- If  is even and in the inclusive range of  to , print Not Weird\n",
    "- If  is even and in the inclusive range of  to , print Weird\n",
    "- If  is even and greater than , print Not Weird"
   ]
  },
  {
   "cell_type": "code",
   "execution_count": null,
   "metadata": {},
   "outputs": [],
   "source": [
    "#Elementary condition statement\n",
    "#testing the percent sign operating as modulo operator\n",
    "    if n %2 == 1:\n",
    "        print(\"Weird\")\n",
    "    if n %2 ==0 and n >=2 and n <= 5:\n",
    "        print(\"Not Weird\")\n",
    "    if  n %2 ==0 and n >=6 and n <= 20:\n",
    "        print(\"Weird\")\n",
    "    if n %2 ==0 and n > 20:\n",
    "        print(\"Not Weird\") "
   ]
  },
  {
   "cell_type": "markdown",
   "metadata": {},
   "source": [
    "**2**\n",
    "\n",
    "The provided code stub reads two integers from STDIN,  and . Add code to print three lines where:\n",
    "\n",
    "- The first line contains the sum of the two numbers.\n",
    "- The second line contains the difference of the two numbers (first - second).\n",
    "- The third line contains the product of the two numbers.\n"
   ]
  },
  {
   "cell_type": "code",
   "execution_count": null,
   "metadata": {},
   "outputs": [],
   "source": [
    "#Focuses on formatting the output\n",
    "#by signifying the sep line with print, can print one different lines\n",
    "if __name__ == '__main__':\n",
    "    a = int(input())\n",
    "    b = int(input())\n",
    "    \n",
    "    def operation(a:int, b:int):\n",
    "        sum_total = a+b\n",
    "        difference_total = a-b\n",
    "        product_total = a *b\n",
    "        return sum_total, difference_total, product_total\n",
    "        \n",
    "        \n",
    "        \n",
    "    print(*operation(a,b), sep='\\n')    "
   ]
  },
  {
   "cell_type": "markdown",
   "metadata": {},
   "source": [
    "**3**\n",
    "\n",
    "Task\n",
    "The provided code stub reads two integers,  and , from STDIN.\n",
    "\n",
    "Add logic to print two lines. The first line should contain the result of integer division,  // . The second line should contain the result of float division,  / .\n",
    "\n",
    "No rounding or formatting is necessary."
   ]
  },
  {
   "cell_type": "code",
   "execution_count": null,
   "metadata": {},
   "outputs": [],
   "source": [
    "#understanding the different between double slash division and single slash division\n",
    "a = int(input())\n",
    "b = int(input())\n",
    "\n",
    "def division_work(a:int, b:int):\n",
    "    integer_division = a//b\n",
    "    float_division = a/b\n",
    "    \n",
    "    return integer_division, float_division\n",
    "    \n",
    "print(*division_work(a,b), sep='\\n')  "
   ]
  },
  {
   "cell_type": "markdown",
   "metadata": {},
   "source": [
    "**4**\n",
    "\n",
    "Task\n",
    "The provided code stub reads and integer, , from STDIN. For all non-negative integers , print .\n",
    "\n",
    "- Good use of the range function "
   ]
  },
  {
   "cell_type": "code",
   "execution_count": 11,
   "metadata": {},
   "outputs": [
    {
     "name": "stdout",
     "output_type": "stream",
     "text": [
      "0\n",
      "1\n",
      "4\n"
     ]
    }
   ],
   "source": [
    "def n_squared(n:int):\n",
    "        for number in range(n):\n",
    "            print(number**2, sep='\\n') \n",
    "\n",
    "n_squared(3)"
   ]
  },
  {
   "cell_type": "markdown",
   "metadata": {},
   "source": [
    "**5**\n",
    "\n",
    "Quiz to identify is a year is a leap year, based on the gregorian calendar\n",
    "\n",
    "- The year can be evenly divided by 4, is a leap year, unless:\n",
    "- The year can be evenly divided by 100, it is NOT a leap year, unless:\n",
    "    - The year is also evenly divisible by 400. Then it is a leap year.\n",
    "    \n",
    "This means that in the Gregorian calendar, the years 2000 and 2400 are leap years, while 1800, 1900, 2100, 2200, 2300 and 2500 are NOT leap years"
   ]
  },
  {
   "cell_type": "code",
   "execution_count": 21,
   "metadata": {},
   "outputs": [
    {
     "data": {
      "text/plain": [
       "False"
      ]
     },
     "execution_count": 21,
     "metadata": {},
     "output_type": "execute_result"
    }
   ],
   "source": [
    "def is_leap(year:int):\n",
    "    leap = False\n",
    "    if year%4 == 0 and year%100 == 0 :\n",
    "        leap = False\n",
    "    if year%4 == 0 and year%100 != 0 :\n",
    "        leap = True   \n",
    "    if year%4 == 0 and year%100 == 0 and year%400 ==0:\n",
    "        leap = True\n",
    "    \n",
    "    return leap\n",
    "\n",
    "is_leap( 1992)"
   ]
  },
  {
   "cell_type": "markdown",
   "metadata": {},
   "source": [
    "**6**\n",
    "\n",
    "Manipulating the range function to print the inclusive endput, and start at 1 instead of zero"
   ]
  },
  {
   "cell_type": "code",
   "execution_count": 31,
   "metadata": {},
   "outputs": [
    {
     "name": "stdout",
     "output_type": "stream",
     "text": [
      "1234567"
     ]
    }
   ],
   "source": [
    "def continuous_string(n:int):\n",
    "    inclusive_range_limit= n + 1\n",
    "\n",
    "    for number in range(1,inclusive_range_limit):\n",
    "        print(number,  end=\"\")\n",
    "\n",
    "continuous_string(7)"
   ]
  },
  {
   "cell_type": "markdown",
   "metadata": {},
   "source": [
    "**7** \n",
    "\n",
    "Iterate through a dictionary"
   ]
  },
  {
   "cell_type": "code",
   "execution_count": 2,
   "metadata": {},
   "outputs": [],
   "source": [
    "dict = {\"name\": ['Jon', 'Justin', 'Nick'],\n",
    "        \"age\": [1,20,44]}"
   ]
  },
  {
   "cell_type": "code",
   "execution_count": 12,
   "metadata": {},
   "outputs": [
    {
     "name": "stdout",
     "output_type": "stream",
     "text": [
      "name Jon\n",
      "age 1\n",
      "phone 123435\n"
     ]
    }
   ],
   "source": [
    "#need to do key and values, then have .items to iterate through\n",
    "for key,value in dict.items():\n",
    "    print( key, value[0])"
   ]
  },
  {
   "cell_type": "code",
   "execution_count": 10,
   "metadata": {},
   "outputs": [
    {
     "name": "stdout",
     "output_type": "stream",
     "text": [
      "['Jon', 'Justin', 'Nick']\n",
      "[1, 20, 44]\n"
     ]
    }
   ],
   "source": [
    "#indexing the dictionary\n",
    "print(dict['name'])\n",
    "print(dict['age'])"
   ]
  },
  {
   "cell_type": "code",
   "execution_count": 11,
   "metadata": {},
   "outputs": [],
   "source": [
    "#adding new entry to dictionary\n",
    "dict['phone'] = [123435, 56779, 98765]"
   ]
  },
  {
   "cell_type": "code",
   "execution_count": 13,
   "metadata": {},
   "outputs": [
    {
     "name": "stdout",
     "output_type": "stream",
     "text": [
      "dict_items([('name', ['Jon', 'Justin', 'Nick']), ('age', [1, 20, 44]), ('phone', [123435, 56779, 98765])])\n"
     ]
    }
   ],
   "source": [
    "print(dict.items())"
   ]
  },
  {
   "cell_type": "code",
   "execution_count": null,
   "metadata": {},
   "outputs": [],
   "source": []
  }
 ],
 "metadata": {
  "kernelspec": {
   "display_name": "algebra",
   "language": "python",
   "name": "python3"
  },
  "language_info": {
   "codemirror_mode": {
    "name": "ipython",
    "version": 3
   },
   "file_extension": ".py",
   "mimetype": "text/x-python",
   "name": "python",
   "nbconvert_exporter": "python",
   "pygments_lexer": "ipython3",
   "version": "3.11.4"
  }
 },
 "nbformat": 4,
 "nbformat_minor": 2
}
